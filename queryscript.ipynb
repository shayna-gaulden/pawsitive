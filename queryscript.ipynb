{
 "cells": [
  {
   "cell_type": "code",
   "execution_count": 15,
   "metadata": {},
   "outputs": [],
   "source": [
    "import mysql.connector\n",
    "from mysql.connector.constants import ClientFlag\n",
    "\n",
    "config = {\n",
    "    'user': 'root',\n",
    "    'password': 'miapia',\n",
    "    'host': '35.202.78.48',\n",
    "    'client_flags': [ClientFlag.SSL],\n",
    "    'ssl_ca': 'certs/server-ca.pem',\n",
    "    'ssl_cert': 'certs/client-cert.pem',\n",
    "    'ssl_key': 'certs/client-key.pem'\n",
    "}\n",
    "\n",
    "# now we establish our connection\n",
    "cnxn = mysql.connector.connect(**config)\n",
    "\n",
    "cursor = cnxn.cursor()  # initialize connection cursor\n",
    "cursor.execute('CREATE DATABASE IF NOT EXISTS Pawsitive')  # create a new 'testdb' database\n",
    "cnxn.close()  # close connection because we will be reconnecting to testdb\n",
    "\n",
    "config['database'] = 'Pawsitive'\n",
    "cnxn = mysql.connector.connect(**config)\n",
    "cursor = cnxn.cursor(buffered=True)\n",
    "cnxn.commit()"
   ]
  },
  {
   "cell_type": "code",
   "execution_count": 16,
   "metadata": {},
   "outputs": [],
   "source": [
    "#cursor.execute(\"INSERT INTO SCHEDULES (USER_ID, TIME_DATE) VALUES ('t.nguyen','2022-06-08 11:00')\")\n",
    "#cnxn.commit()\n",
    "#result = cursor.fetchall()\n",
    "\n",
    "#for x in result:\n",
    "#    print(x)"
   ]
  },
  {
   "cell_type": "code",
   "execution_count": 17,
   "metadata": {},
   "outputs": [
    {
     "name": "stdout",
     "output_type": "stream",
     "text": [
      "('AKC CGC', 'AKC Canine good citizen training', Decimal('149.99'), 'Training')\n",
      "('CGC test', 'AKC CGC testing', Decimal('25.00'), 'Training')\n",
      "('Dog 1', 'Beginner adult dog class', Decimal('149.99'), 'Training')\n",
      "('Dog 2', 'Advanced adult dog class', Decimal('149.99'), 'Training')\n",
      "('Full-day Board', '8 hours in day boarding', Decimal('34.99'), 'Boarding')\n",
      "('Half-day Board', '4 hour in day boarding', Decimal('19.99'), 'Boarding')\n",
      "('Large dog full service', 'Wash and brush for dogs size 50+ lb', Decimal('119.99'), 'Grooming')\n",
      "('Matt brush', 'Every 15 extra minutes of brushing.', Decimal('12.00'), 'Grooming')\n",
      "('Medium dog full service', 'Wash and brush for dogs size 20-50 lb', Decimal('89.99'), 'Grooming')\n",
      "('Nails and Ears', 'Naill trim and ear cleaning', Decimal('20.00'), 'Grooming')\n",
      "('Overnight Board', 'Dog kept in boarding overnight ', Decimal('49.99'), 'Boarding')\n",
      "('Puppy 1', 'Beginner puppy lessons', Decimal('149.99'), 'Training')\n",
      "('Puppy 2', 'Advanced puppy lessons', Decimal('149.99'), 'Training')\n",
      "('Small dog full service', 'Wash and brush for dogs size 0-20 lb', Decimal('59.99'), 'Grooming')\n"
     ]
    }
   ],
   "source": [
    "cursor.execute(\"SELECT * FROM SERVICES\")\n",
    "                \n",
    "result = cursor.fetchall()\n",
    "for x in result:\n",
    "    print(x)"
   ]
  },
  {
   "cell_type": "code",
   "execution_count": 18,
   "metadata": {},
   "outputs": [
    {
     "name": "stdout",
     "output_type": "stream",
     "text": [
      "('black.lab', 'Boarding', 'George Willis', '13 hill cir', 'San Jose', 'CA', '95122', 'USA', 123409870)\n",
      "('fish.sauce', 'Manager', 'Tien Gaulden', '1234 SJSU ave', 'San Jose', 'CA', '95136', 'USA', 123456780)\n",
      "('horse_gurl24', 'Training', 'Ariana Mahalati', '90 larkspur st', 'Palo Alto', 'CA', '91234', 'USA', 888882743)\n",
      "('kiamcoo', 'Boarding', 'Kim Kiamco', '4300 redoowd cir', 'Sunnyvale', 'CA', '94123', 'USA', 987654321)\n",
      "('lilmads96', 'Grooming', 'Madison Lillian', '12 valley dr', 'San Mateo', 'CA', '94327', 'USA', 333336452)\n",
      "('s.gaulden', 'Training', 'Shayna Gaulden', '4500 forest dr', 'San Jose', 'CA', '95136', 'USA', 246812345)\n",
      "('ss.bee', 'Manager', 'Wuelby Soriano', '234 sonoma ave', 'Santa Rosa', 'CA', '93212', 'USA', 849372615)\n",
      "('t.nguyen', 'Grooming', 'Tien Nguyen', '123 sunny st', 'San Jose', 'CA', '95132', 'USA', 123456789)\n"
     ]
    }
   ],
   "source": [
    "cursor.execute(\"SELECT * FROM EMPLOYEES\")\n",
    "                \n",
    "result = cursor.fetchall()\n",
    "for x in result:\n",
    "    print(x)"
   ]
  },
  {
   "cell_type": "code",
   "execution_count": 19,
   "metadata": {},
   "outputs": [
    {
     "name": "stdout",
     "output_type": "stream",
     "text": [
      "('3', 'black.lab', datetime.datetime(2022, 5, 1, 20, 0), 'Overnight Board')\n",
      "('4', 'black.lab', datetime.datetime(2022, 5, 1, 20, 0), 'Overnight Board')\n",
      "('1', 's.gaulden', datetime.datetime(2022, 5, 1, 8, 0), 'Puppy 1')\n",
      "('2', 's.gaulden', datetime.datetime(2022, 5, 1, 8, 0), 'Puppy 1')\n",
      "('1', 't.nguyen', datetime.datetime(2022, 5, 1, 9, 0), 'Small dog full service')\n"
     ]
    }
   ],
   "source": [
    "cursor.execute(\"SELECT * FROM BOOKINGS\")\n",
    "                \n",
    "result = cursor.fetchall()\n",
    "for x in result:\n",
    "    print(x)"
   ]
  },
  {
   "cell_type": "code",
   "execution_count": 20,
   "metadata": {},
   "outputs": [
    {
     "name": "stdout",
     "output_type": "stream",
     "text": [
      "('black.lab', datetime.datetime(2022, 5, 1, 20, 0))\n",
      "('black.lab', datetime.datetime(2022, 5, 2, 8, 0))\n",
      "('horse_gurl24', datetime.datetime(2022, 5, 2, 8, 0))\n",
      "('horse_gurl24', datetime.datetime(2022, 5, 5, 8, 0))\n",
      "('kiamcoo', datetime.datetime(2022, 5, 1, 10, 0))\n",
      "('kiamcoo', datetime.datetime(2022, 5, 3, 9, 0))\n",
      "('lilmads96', datetime.datetime(2022, 5, 1, 9, 0))\n",
      "('lilmads96', datetime.datetime(2022, 5, 8, 11, 0))\n",
      "('s.gaulden', datetime.datetime(2022, 5, 1, 8, 0))\n",
      "('s.gaulden', datetime.datetime(2022, 5, 2, 8, 0))\n",
      "('ss.bee', datetime.datetime(2022, 5, 1, 16, 0))\n",
      "('ss.bee', datetime.datetime(2022, 5, 2, 8, 0))\n",
      "('t.nguyen', datetime.datetime(2022, 5, 1, 8, 0))\n",
      "('t.nguyen', datetime.datetime(2022, 5, 1, 9, 0))\n"
     ]
    }
   ],
   "source": [
    "cursor.execute(\"SELECT * FROM SCHEDULES\")\n",
    "                \n",
    "result = cursor.fetchall()\n",
    "for x in result:\n",
    "    print(x)"
   ]
  },
  {
   "cell_type": "code",
   "execution_count": 21,
   "metadata": {},
   "outputs": [
    {
     "name": "stdout",
     "output_type": "stream",
     "text": [
      "('1', 'ross.geller', 'Mia', 'Small', 'Chihuahua', 1, 0, 1, 'F')\n",
      "('2', 'ross.geller', 'Coco', 'Small', 'Corgi', 1, 0, 1, 'M')\n",
      "('3', 'phoeba.buffay', 'Charlie', 'Small', 'Mix', 0, 0, 1, 'M')\n",
      "('4', 'bing.chand', 'Amber', 'Large', 'Visla', 0, 0, 2, 'F')\n",
      "('5', 'j.tribbani', 'Sweetie', 'Small', 'Carin Terrier', 1, 0, 4, 'M')\n",
      "('6', 'rachel.green', 'Gordie', 'Small', 'Bichon', 1, 0, 6, 'M')\n",
      "('7', 'rachel.green', 'Bella', 'Medium', 'Australian Shephard', 0, 0, 0, 'F')\n"
     ]
    }
   ],
   "source": [
    "cursor.execute(\"SELECT * FROM DOGS\")\n",
    "                \n",
    "result = cursor.fetchall()\n",
    "for x in result:\n",
    "    print(x)"
   ]
  },
  {
   "cell_type": "code",
   "execution_count": 22,
   "metadata": {},
   "outputs": [
    {
     "name": "stdout",
     "output_type": "stream",
     "text": [
      "('bing.chand', 'hahaha', 'cust')\n",
      "('black.lab', 'hello', 'Boarding')\n",
      "('fish.sauce', 'manager', 'Manager')\n",
      "('horse_gurl24', '100x', 'Training')\n",
      "('j.tribbani', '2468blue', 'cust')\n",
      "('kiamcoo', 'putput', 'Boarding')\n",
      "('lilmads96', 'redwood', 'Grooming')\n",
      "('phoeba.buffay', 'password123', 'cust')\n",
      "('rachel.green', 'green78', 'cust')\n",
      "('ross.geller', '12345six', 'cust')\n",
      "('s.gaulden', 'gaulden', 'Training')\n",
      "('ss.bee', 'bee', 'Manager')\n",
      "('t.nguyen', 'nguyen', 'Grooming')\n"
     ]
    }
   ],
   "source": [
    "cursor.execute(\"SELECT * FROM USERS\")\n",
    "                \n",
    "result = cursor.fetchall()\n",
    "for x in result:\n",
    "    print(x)"
   ]
  },
  {
   "cell_type": "code",
   "execution_count": 23,
   "metadata": {},
   "outputs": [
    {
     "name": "stdout",
     "output_type": "stream",
     "text": [
      "('bing.chand', 'Chandler Bing', '408345213', '6894 Grand blvd', 'San Jose', 'CA', '95005', 'US')\n",
      "('j.tribbani', 'Joey Tribbiani', '567325098', '12A Main St', 'Milpitas', 'CA', '95305', 'US')\n",
      "('phoeba.buffay', 'Phoebe Buffay', '925123456', '124 Creek Dr', 'San Jose', 'CA', '95122', 'US')\n",
      "('rachel.green', 'Rachel Green', '925000980', '54 Alber Ct', 'Milpitas', 'CA', '95035', 'US')\n",
      "('ross.geller', 'Ross Geller', '408123456', '123 Creek Dr', 'San Jose', 'CA', '95122', 'US')\n"
     ]
    }
   ],
   "source": [
    "cursor.execute(\"SELECT * FROM CUSTOMERS\")\n",
    "                \n",
    "result = cursor.fetchall()\n",
    "for x in result:\n",
    "    print(x)"
   ]
  },
  {
   "cell_type": "code",
   "execution_count": 24,
   "metadata": {},
   "outputs": [
    {
     "name": "stdout",
     "output_type": "stream",
     "text": [
      "('Boarding', 'Dog boarding offers overnite and hourly stays.')\n",
      "('Grooming', 'Dog grooming offering baths and full service.')\n",
      "('Manager', 'Always must be at least 1 manager on duty.')\n",
      "('Training', 'Training classes offered for puppy basic obiedience and more.')\n"
     ]
    }
   ],
   "source": [
    "cursor.execute(\"SELECT * FROM DEPARTMENTS\")\n",
    "                \n",
    "result = cursor.fetchall()\n",
    "for x in result:\n",
    "    print(x)"
   ]
  },
  {
   "cell_type": "code",
   "execution_count": 25,
   "metadata": {},
   "outputs": [
    {
     "name": "stdout",
     "output_type": "stream",
     "text": [
      "('black.lab', 'Boarding', datetime.datetime(2022, 5, 2, 8, 0), 'George Willis')\n",
      "('horse_gurl24', 'Training', datetime.datetime(2022, 5, 2, 8, 0), 'Ariana Mahalati')\n",
      "('horse_gurl24', 'Training', datetime.datetime(2022, 5, 5, 8, 0), 'Ariana Mahalati')\n",
      "('kiamcoo', 'Boarding', datetime.datetime(2022, 5, 1, 10, 0), 'Kim Kiamco')\n",
      "('kiamcoo', 'Boarding', datetime.datetime(2022, 5, 3, 9, 0), 'Kim Kiamco')\n",
      "('lilmads96', 'Grooming', datetime.datetime(2022, 5, 1, 9, 0), 'Madison Lillian')\n",
      "('lilmads96', 'Grooming', datetime.datetime(2022, 5, 8, 11, 0), 'Madison Lillian')\n",
      "('s.gaulden', 'Training', datetime.datetime(2022, 5, 2, 8, 0), 'Shayna Gaulden')\n",
      "('t.nguyen', 'Grooming', datetime.datetime(2022, 5, 1, 8, 0), 'Tien Nguyen')\n"
     ]
    }
   ],
   "source": [
    "cursor.execute(\"SELECT * FROM CALENDAR_VW\")\n",
    "                \n",
    "result = cursor.fetchall()\n",
    "for x in result:\n",
    "    print(x)"
   ]
  },
  {
   "cell_type": "code",
   "execution_count": 26,
   "metadata": {},
   "outputs": [
    {
     "name": "stdout",
     "output_type": "stream",
     "text": [
      "('Boarding', 'George Willis', '13 hill cir', 'San Jose', 'CA', '95122', 'USA')\n",
      "('Manager', 'Tien Gaulden', '1234 SJSU ave', 'San Jose', 'CA', '95136', 'USA')\n",
      "('Training', 'Ariana Mahalati', '90 larkspur st', 'Palo Alto', 'CA', '91234', 'USA')\n",
      "('Boarding', 'Kim Kiamco', '4300 redoowd cir', 'Sunnyvale', 'CA', '94123', 'USA')\n",
      "('Grooming', 'Madison Lillian', '12 valley dr', 'San Mateo', 'CA', '94327', 'USA')\n",
      "('Training', 'Shayna Gaulden', '4500 forest dr', 'San Jose', 'CA', '95136', 'USA')\n",
      "('Manager', 'Wuelby Soriano', '234 sonoma ave', 'Santa Rosa', 'CA', '93212', 'USA')\n",
      "('Grooming', 'Tien Nguyen', '123 sunny st', 'San Jose', 'CA', '95132', 'USA')\n"
     ]
    }
   ],
   "source": [
    "cursor.execute(\"SELECT * FROM EMPLOYEES_VW\")\n",
    "                \n",
    "result = cursor.fetchall()\n",
    "for x in result:\n",
    "    print(x)"
   ]
  },
  {
   "cell_type": "code",
   "execution_count": 27,
   "metadata": {},
   "outputs": [
    {
     "name": "stdout",
     "output_type": "stream",
     "text": [
      "('Boarding', 'George Willis', datetime.datetime(2022, 5, 1, 20, 0), 'Chandler Bing', 'Amber')\n",
      "('Boarding', 'George Willis', datetime.datetime(2022, 5, 1, 20, 0), 'Phoebe Buffay', 'Charlie')\n",
      "('Training', 'Shayna Gaulden', datetime.datetime(2022, 5, 1, 8, 0), 'Ross Geller', 'Mia')\n",
      "('Training', 'Shayna Gaulden', datetime.datetime(2022, 5, 1, 8, 0), 'Ross Geller', 'Coco')\n",
      "('Grooming', 'Tien Nguyen', datetime.datetime(2022, 5, 1, 9, 0), 'Ross Geller', 'Mia')\n",
      "('Boarding', 'George Willis', datetime.datetime(2022, 5, 2, 8, 0), None, None)\n",
      "('Training', 'Ariana Mahalati', datetime.datetime(2022, 5, 2, 8, 0), None, None)\n",
      "('Training', 'Ariana Mahalati', datetime.datetime(2022, 5, 5, 8, 0), None, None)\n",
      "('Boarding', 'Kim Kiamco', datetime.datetime(2022, 5, 1, 10, 0), None, None)\n",
      "('Boarding', 'Kim Kiamco', datetime.datetime(2022, 5, 3, 9, 0), None, None)\n",
      "('Grooming', 'Madison Lillian', datetime.datetime(2022, 5, 1, 9, 0), None, None)\n",
      "('Grooming', 'Madison Lillian', datetime.datetime(2022, 5, 8, 11, 0), None, None)\n",
      "('Training', 'Shayna Gaulden', datetime.datetime(2022, 5, 2, 8, 0), None, None)\n",
      "('Manager', 'Wuelby Soriano', datetime.datetime(2022, 5, 1, 16, 0), None, None)\n",
      "('Manager', 'Wuelby Soriano', datetime.datetime(2022, 5, 2, 8, 0), None, None)\n",
      "('Grooming', 'Tien Nguyen', datetime.datetime(2022, 5, 1, 8, 0), None, None)\n"
     ]
    }
   ],
   "source": [
    "cursor.execute(\"SELECT * FROM SCHEDULES_ALL_VW\")\n",
    "                \n",
    "result = cursor.fetchall()\n",
    "for x in result:\n",
    "    print(x)"
   ]
  },
  {
   "cell_type": "code",
   "execution_count": 28,
   "metadata": {},
   "outputs": [
    {
     "name": "stdout",
     "output_type": "stream",
     "text": [
      "('bing.chand', 'Amber', 'Overnight Board', datetime.datetime(2022, 5, 1, 20, 0), Decimal('49.99'), Decimal('49.99'))\n",
      "('phoeba.buffay', 'Charlie', 'Overnight Board', datetime.datetime(2022, 5, 1, 20, 0), Decimal('49.99'), Decimal('49.99'))\n",
      "('ross.geller', 'Coco', 'Puppy 1', datetime.datetime(2022, 5, 1, 8, 0), Decimal('149.99'), Decimal('149.99'))\n",
      "('ross.geller', 'Mia', 'Small dog full service', datetime.datetime(2022, 5, 1, 9, 0), Decimal('59.99'), Decimal('209.98'))\n",
      "('ross.geller', 'Mia', 'Puppy 1', datetime.datetime(2022, 5, 1, 8, 0), Decimal('149.99'), Decimal('209.98'))\n"
     ]
    }
   ],
   "source": [
    "cursor.execute(\"SELECT * FROM TOTAL_PRICE_VW\")\n",
    "                \n",
    "result = cursor.fetchall()\n",
    "for x in result:\n",
    "    print(x)"
   ]
  },
  {
   "cell_type": "code",
   "execution_count": 29,
   "metadata": {},
   "outputs": [],
   "source": [
    "#cursor.execute(\"SELECT * FROM SERVICES\")\n",
    "                \n",
    "#result = cursor.fetchall()\n",
    "#for x in result:\n",
    "#    print(x)"
   ]
  },
  {
   "cell_type": "code",
   "execution_count": 30,
   "metadata": {},
   "outputs": [],
   "source": [
    "cnxn.close()"
   ]
  }
 ],
 "metadata": {
  "interpreter": {
   "hash": "31f2aee4e71d21fbe5cf8b01ff0e069b9275f58929596ceb00d14d90e3e16cd6"
  },
  "kernelspec": {
   "display_name": "Python 3.8.9 64-bit",
   "language": "python",
   "name": "python3"
  },
  "language_info": {
   "codemirror_mode": {
    "name": "ipython",
    "version": 3
   },
   "file_extension": ".py",
   "mimetype": "text/x-python",
   "name": "python",
   "nbconvert_exporter": "python",
   "pygments_lexer": "ipython3",
   "version": "3.8.9"
  },
  "orig_nbformat": 4
 },
 "nbformat": 4,
 "nbformat_minor": 2
}
